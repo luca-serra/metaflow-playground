{
 "cells": [
  {
   "cell_type": "markdown",
   "metadata": {},
   "source": [
    "# Episode 01-playlist: Let's build you a movie playlist.\n",
    "\n",
    "### PlayListFlow is a movie playlist generator, and this notebook shows how you can use the Metaflow client to access data from the versioned Metaflow runs. In this example,  you can view all the historical playlists."
   ]
  },
  {
   "cell_type": "markdown",
   "metadata": {},
   "source": [
    "## Import the metaflow client"
   ]
  },
  {
   "cell_type": "code",
   "execution_count": 1,
   "metadata": {},
   "outputs": [
    {
     "name": "stdout",
     "output_type": "stream",
     "text": [
      "Current metadata provider: local@/Users/luca.serra/Documents/code/metaflow-playground/metaflow-tutorials\n"
     ]
    }
   ],
   "source": [
    "from metaflow import Flow, get_metadata\n",
    "print(\"Current metadata provider: %s\" % get_metadata())"
   ]
  },
  {
   "cell_type": "markdown",
   "metadata": {},
   "source": [
    "## Print your latest generated playlist"
   ]
  },
  {
   "cell_type": "code",
   "execution_count": 2,
   "metadata": {},
   "outputs": [
    {
     "name": "stdout",
     "output_type": "stream",
     "text": [
      "Using run: Run('PlayListFlow/1678183487833463')\n"
     ]
    }
   ],
   "source": [
    "run = Flow('PlayListFlow').latest_successful_run\n",
    "print(\"Using run: %s\" % str(run))"
   ]
  },
  {
   "cell_type": "code",
   "execution_count": 3,
   "metadata": {},
   "outputs": [
    {
     "name": "stdout",
     "output_type": "stream",
     "text": [
      "Playlist generated on 2023-03-07 11:04:48.887000\n",
      "\n",
      "Playlist for movies in genre 'comedy'\n",
      "Pick 1: 'The Ant Bully'\n",
      "Pick 2: 'Bottle Shock'\n",
      "Pick 3: 'How Do You Know'\n",
      "Pick 4: 'Bottle Rocket'\n",
      "Pick 5: 'The Perfect Man'\n",
      "Bonus Pick: 'Blood Diamond' from 'Adventure|Drama|Thriller'\n"
     ]
    }
   ],
   "source": [
    "print(\"Playlist generated on %s\\n\" % str(run.finished_at))\n",
    "print(\"Playlist for movies in genre '%s'\" % run.data.genre)\n",
    "for pick, movie in enumerate(run.data.playlist, start=1):\n",
    "    print(\"Pick %d: '%s'\" % (pick, movie))\n",
    "    if pick >= run.data.recommendations:\n",
    "        break\n",
    "                \n",
    "print(\"Bonus Pick: '%s' from '%s'\" % (run.data.bonus[0], run.data.bonus[1]))"
   ]
  },
  {
   "cell_type": "markdown",
   "metadata": {},
   "source": [
    "## See what the top pick was for previously generated playlists"
   ]
  },
  {
   "cell_type": "code",
   "execution_count": 4,
   "metadata": {},
   "outputs": [
    {
     "name": "stdout",
     "output_type": "stream",
     "text": [
      "Playlist generated on 2023-03-07 11:04:48.887000\n",
      "Playlist for movies in genre 'comedy'\n",
      "Top Pick: 'The Ant Bully'\n",
      "\n",
      "\n",
      "Playlist generated on 2023-03-07 11:03:29.298000\n",
      "Playlist for movies in genre 'Sci-Fi'\n",
      "Top Pick: 'Godzilla 2000'\n",
      "\n",
      "\n"
     ]
    }
   ],
   "source": [
    "for run in Flow('PlayListFlow').runs():\n",
    "    if run.successful:\n",
    "        print(\"Playlist generated on %s\" % run.finished_at)\n",
    "        print(\"Playlist for movies in genre '%s'\" % run.data.genre)\n",
    "        if run.data.playlist:\n",
    "            print(\"Top Pick: '%s'\" % run.data.playlist[0])\n",
    "        print('\\n')"
   ]
  },
  {
   "cell_type": "code",
   "execution_count": null,
   "metadata": {},
   "outputs": [],
   "source": []
  }
 ],
 "metadata": {
  "kernelspec": {
   "display_name": "metaflow-playground",
   "language": "python",
   "name": "python3"
  },
  "language_info": {
   "codemirror_mode": {
    "name": "ipython",
    "version": 3
   },
   "file_extension": ".py",
   "mimetype": "text/x-python",
   "name": "python",
   "nbconvert_exporter": "python",
   "pygments_lexer": "ipython3",
   "version": "3.8.16"
  },
  "vscode": {
   "interpreter": {
    "hash": "b4cab037934d5e625413ad05a9b8f932c20c2329229de32930b79c34d8b43a54"
   }
  }
 },
 "nbformat": 4,
 "nbformat_minor": 2
}
